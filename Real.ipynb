{
 "cells": [
  {
   "cell_type": "code",
   "execution_count": 147,
   "metadata": {},
   "outputs": [],
   "source": [
    "import pandas as pd\n",
    "import numpy as np  \n",
    "import matplotlib.pyplot as plt\n",
    "import seaborn as sns\n"
   ]
  },
  {
   "cell_type": "code",
   "execution_count": 111,
   "metadata": {},
   "outputs": [],
   "source": [
    "df = pd.read_csv('Datanew.csv')"
   ]
  },
  {
   "cell_type": "code",
   "execution_count": 112,
   "metadata": {},
   "outputs": [
    {
     "name": "stdout",
     "output_type": "stream",
     "text": [
      "<class 'pandas.core.frame.DataFrame'>\n",
      "RangeIndex: 58 entries, 0 to 57\n",
      "Data columns (total 10 columns):\n",
      " #   Column                                                                                                                                    Non-Null Count  Dtype \n",
      "---  ------                                                                                                                                    --------------  ----- \n",
      " 0   Timestamp                                                                                                                                 58 non-null     object\n",
      " 1   Age in years (round off to nearest integer).  No Units should be entered. Only the number                                                 58 non-null     object\n",
      " 2   Weight (In Kg, round off to nearest integer) No Units should be entered. Only the number                                                  58 non-null     object\n",
      " 3   Height (In Inches. Round off to nearest integer).  No Units should be entered. Only the number                                            57 non-null     object\n",
      " 4   Gender                                                                                                                                    57 non-null     object\n",
      " 5   Write a paragraph on the qualities of a good student. (Minimum 50 words, maximum 100 words)                                               53 non-null     object\n",
      " 6   Distance between your hometown and college.   (In Kilometer. Round off to nearest integer).  No Units should be entered. Only the number  57 non-null     object\n",
      " 7   Time taken to reach college from your hometown. (In Hours. Round off to nearest integer).  No Units should be entered. Only the number    58 non-null     object\n",
      " 8   District in which your hometown is                                                                                                        58 non-null     object\n",
      " 9   State in which your hometown is                                                                                                           58 non-null     object\n",
      "dtypes: object(10)\n",
      "memory usage: 4.7+ KB\n"
     ]
    }
   ],
   "source": [
    "df.info()"
   ]
  },
  {
   "cell_type": "code",
   "execution_count": 113,
   "metadata": {},
   "outputs": [
    {
     "data": {
      "text/html": [
       "<div>\n",
       "<style scoped>\n",
       "    .dataframe tbody tr th:only-of-type {\n",
       "        vertical-align: middle;\n",
       "    }\n",
       "\n",
       "    .dataframe tbody tr th {\n",
       "        vertical-align: top;\n",
       "    }\n",
       "\n",
       "    .dataframe thead th {\n",
       "        text-align: right;\n",
       "    }\n",
       "</style>\n",
       "<table border=\"1\" class=\"dataframe\">\n",
       "  <thead>\n",
       "    <tr style=\"text-align: right;\">\n",
       "      <th></th>\n",
       "      <th>Timestamp</th>\n",
       "      <th>Age in years (round off to nearest integer).  No Units should be entered. Only the number</th>\n",
       "      <th>Weight (In Kg, round off to nearest integer) No Units should be entered. Only the number</th>\n",
       "      <th>Height (In Inches. Round off to nearest integer).  No Units should be entered. Only the number</th>\n",
       "      <th>Gender</th>\n",
       "      <th>Write a paragraph on the qualities of a good student. (Minimum 50 words, maximum 100 words)</th>\n",
       "      <th>Distance between your hometown and college.   (In Kilometer. Round off to nearest integer).  No Units should be entered. Only the number</th>\n",
       "      <th>Time taken to reach college from your hometown. (In Hours. Round off to nearest integer).  No Units should be entered. Only the number</th>\n",
       "      <th>District in which your hometown is</th>\n",
       "      <th>State in which your hometown is</th>\n",
       "    </tr>\n",
       "  </thead>\n",
       "  <tbody>\n",
       "    <tr>\n",
       "      <th>0</th>\n",
       "      <td>3/26/2025 16:17:02</td>\n",
       "      <td>21</td>\n",
       "      <td>60</td>\n",
       "      <td>5'3</td>\n",
       "      <td>Female</td>\n",
       "      <td>A excellent student demonstrates attributes su...</td>\n",
       "      <td>1800km</td>\n",
       "      <td>74 hrs</td>\n",
       "      <td>Kamrup(M)</td>\n",
       "      <td>Assam</td>\n",
       "    </tr>\n",
       "    <tr>\n",
       "      <th>1</th>\n",
       "      <td>3/26/2025 16:18:53</td>\n",
       "      <td>37</td>\n",
       "      <td>101</td>\n",
       "      <td>70</td>\n",
       "      <td>Male</td>\n",
       "      <td>NaN</td>\n",
       "      <td>7</td>\n",
       "      <td>0.25</td>\n",
       "      <td>Durg</td>\n",
       "      <td>Chhattisgarh</td>\n",
       "    </tr>\n",
       "    <tr>\n",
       "      <th>2</th>\n",
       "      <td>3/26/2025 16:22:28</td>\n",
       "      <td>20</td>\n",
       "      <td>65</td>\n",
       "      <td>5.9</td>\n",
       "      <td>Male</td>\n",
       "      <td>A good student is disciplined, hardworking and...</td>\n",
       "      <td>250km</td>\n",
       "      <td>6 hours</td>\n",
       "      <td>Kanker</td>\n",
       "      <td>Chhattisgarh</td>\n",
       "    </tr>\n",
       "    <tr>\n",
       "      <th>3</th>\n",
       "      <td>3/26/2025 16:23:06</td>\n",
       "      <td>24</td>\n",
       "      <td>69</td>\n",
       "      <td>5.9</td>\n",
       "      <td>Male</td>\n",
       "      <td>Good students should be disciplined, Attentive...</td>\n",
       "      <td>1100</td>\n",
       "      <td>26 hrs</td>\n",
       "      <td>Patna</td>\n",
       "      <td>Bihar</td>\n",
       "    </tr>\n",
       "    <tr>\n",
       "      <th>4</th>\n",
       "      <td>3/26/2025 16:26:11</td>\n",
       "      <td>21</td>\n",
       "      <td>65</td>\n",
       "      <td>170</td>\n",
       "      <td>Male</td>\n",
       "      <td>A good student is disciplined, curious, and ha...</td>\n",
       "      <td>741km</td>\n",
       "      <td>19hrs</td>\n",
       "      <td>West Singhbhum</td>\n",
       "      <td>Jharkhand</td>\n",
       "    </tr>\n",
       "  </tbody>\n",
       "</table>\n",
       "</div>"
      ],
      "text/plain": [
       "            Timestamp  \\\n",
       "0  3/26/2025 16:17:02   \n",
       "1  3/26/2025 16:18:53   \n",
       "2  3/26/2025 16:22:28   \n",
       "3  3/26/2025 16:23:06   \n",
       "4  3/26/2025 16:26:11   \n",
       "\n",
       "  Age in years (round off to nearest integer).  No Units should be entered. Only the number  \\\n",
       "0                                                 21                                          \n",
       "1                                                 37                                          \n",
       "2                                                 20                                          \n",
       "3                                                 24                                          \n",
       "4                                                 21                                          \n",
       "\n",
       "  Weight (In Kg, round off to nearest integer) No Units should be entered. Only the number  \\\n",
       "0                                                 60                                         \n",
       "1                                                101                                         \n",
       "2                                                 65                                         \n",
       "3                                                 69                                         \n",
       "4                                                 65                                         \n",
       "\n",
       "  Height (In Inches. Round off to nearest integer).  No Units should be entered. Only the number  \\\n",
       "0                                                5'3                                               \n",
       "1                                                 70                                               \n",
       "2                                                5.9                                               \n",
       "3                                                5.9                                               \n",
       "4                                                170                                               \n",
       "\n",
       "   Gender  \\\n",
       "0  Female   \n",
       "1    Male   \n",
       "2    Male   \n",
       "3    Male   \n",
       "4    Male   \n",
       "\n",
       "  Write a paragraph on the qualities of a good student. (Minimum 50 words, maximum 100 words)  \\\n",
       "0  A excellent student demonstrates attributes su...                                            \n",
       "1                                                NaN                                            \n",
       "2  A good student is disciplined, hardworking and...                                            \n",
       "3  Good students should be disciplined, Attentive...                                            \n",
       "4  A good student is disciplined, curious, and ha...                                            \n",
       "\n",
       "  Distance between your hometown and college.   (In Kilometer. Round off to nearest integer).  No Units should be entered. Only the number  \\\n",
       "0                                             1800km                                                                                         \n",
       "1                                                  7                                                                                         \n",
       "2                                              250km                                                                                         \n",
       "3                                               1100                                                                                         \n",
       "4                                              741km                                                                                         \n",
       "\n",
       "  Time taken to reach college from your hometown. (In Hours. Round off to nearest integer).  No Units should be entered. Only the number  \\\n",
       "0                                             74 hrs                                                                                       \n",
       "1                                               0.25                                                                                       \n",
       "2                                           6 hours                                                                                        \n",
       "3                                             26 hrs                                                                                       \n",
       "4                                              19hrs                                                                                       \n",
       "\n",
       "  District in which your hometown is  State in which your hometown is   \n",
       "0                           Kamrup(M)                            Assam  \n",
       "1                                Durg                    Chhattisgarh   \n",
       "2                              Kanker                     Chhattisgarh  \n",
       "3                              Patna                            Bihar   \n",
       "4                     West Singhbhum                        Jharkhand   "
      ]
     },
     "execution_count": 113,
     "metadata": {},
     "output_type": "execute_result"
    }
   ],
   "source": [
    "df.head()"
   ]
  },
  {
   "cell_type": "code",
   "execution_count": 114,
   "metadata": {},
   "outputs": [
    {
     "data": {
      "text/html": [
       "<div>\n",
       "<style scoped>\n",
       "    .dataframe tbody tr th:only-of-type {\n",
       "        vertical-align: middle;\n",
       "    }\n",
       "\n",
       "    .dataframe tbody tr th {\n",
       "        vertical-align: top;\n",
       "    }\n",
       "\n",
       "    .dataframe thead th {\n",
       "        text-align: right;\n",
       "    }\n",
       "</style>\n",
       "<table border=\"1\" class=\"dataframe\">\n",
       "  <thead>\n",
       "    <tr style=\"text-align: right;\">\n",
       "      <th></th>\n",
       "      <th>Timestamp</th>\n",
       "      <th>Age in years (round off to nearest integer).  No Units should be entered. Only the number</th>\n",
       "      <th>Weight (In Kg, round off to nearest integer) No Units should be entered. Only the number</th>\n",
       "      <th>Height (In Inches. Round off to nearest integer).  No Units should be entered. Only the number</th>\n",
       "      <th>Gender</th>\n",
       "      <th>Write a paragraph on the qualities of a good student. (Minimum 50 words, maximum 100 words)</th>\n",
       "      <th>Distance between your hometown and college.   (In Kilometer. Round off to nearest integer).  No Units should be entered. Only the number</th>\n",
       "      <th>Time taken to reach college from your hometown. (In Hours. Round off to nearest integer).  No Units should be entered. Only the number</th>\n",
       "      <th>District in which your hometown is</th>\n",
       "      <th>State in which your hometown is</th>\n",
       "    </tr>\n",
       "  </thead>\n",
       "  <tbody>\n",
       "    <tr>\n",
       "      <th>count</th>\n",
       "      <td>58</td>\n",
       "      <td>58</td>\n",
       "      <td>58</td>\n",
       "      <td>57</td>\n",
       "      <td>57</td>\n",
       "      <td>53</td>\n",
       "      <td>57</td>\n",
       "      <td>58</td>\n",
       "      <td>58</td>\n",
       "      <td>58</td>\n",
       "    </tr>\n",
       "    <tr>\n",
       "      <th>unique</th>\n",
       "      <td>58</td>\n",
       "      <td>16</td>\n",
       "      <td>29</td>\n",
       "      <td>39</td>\n",
       "      <td>2</td>\n",
       "      <td>53</td>\n",
       "      <td>47</td>\n",
       "      <td>45</td>\n",
       "      <td>37</td>\n",
       "      <td>18</td>\n",
       "    </tr>\n",
       "    <tr>\n",
       "      <th>top</th>\n",
       "      <td>3/26/2025 16:17:02</td>\n",
       "      <td>20</td>\n",
       "      <td>60</td>\n",
       "      <td>72</td>\n",
       "      <td>Male</td>\n",
       "      <td>A excellent student demonstrates attributes su...</td>\n",
       "      <td>20</td>\n",
       "      <td>10</td>\n",
       "      <td>Durg</td>\n",
       "      <td>Chhattisgarh</td>\n",
       "    </tr>\n",
       "    <tr>\n",
       "      <th>freq</th>\n",
       "      <td>1</td>\n",
       "      <td>20</td>\n",
       "      <td>9</td>\n",
       "      <td>5</td>\n",
       "      <td>41</td>\n",
       "      <td>1</td>\n",
       "      <td>3</td>\n",
       "      <td>5</td>\n",
       "      <td>16</td>\n",
       "      <td>15</td>\n",
       "    </tr>\n",
       "  </tbody>\n",
       "</table>\n",
       "</div>"
      ],
      "text/plain": [
       "                 Timestamp  \\\n",
       "count                   58   \n",
       "unique                  58   \n",
       "top     3/26/2025 16:17:02   \n",
       "freq                     1   \n",
       "\n",
       "       Age in years (round off to nearest integer).  No Units should be entered. Only the number  \\\n",
       "count                                                  58                                          \n",
       "unique                                                 16                                          \n",
       "top                                                    20                                          \n",
       "freq                                                   20                                          \n",
       "\n",
       "       Weight (In Kg, round off to nearest integer) No Units should be entered. Only the number  \\\n",
       "count                                                  58                                         \n",
       "unique                                                 29                                         \n",
       "top                                                    60                                         \n",
       "freq                                                    9                                         \n",
       "\n",
       "       Height (In Inches. Round off to nearest integer).  No Units should be entered. Only the number  \\\n",
       "count                                                  57                                               \n",
       "unique                                                 39                                               \n",
       "top                                                    72                                               \n",
       "freq                                                    5                                               \n",
       "\n",
       "       Gender  \\\n",
       "count      57   \n",
       "unique      2   \n",
       "top      Male   \n",
       "freq       41   \n",
       "\n",
       "       Write a paragraph on the qualities of a good student. (Minimum 50 words, maximum 100 words)  \\\n",
       "count                                                  53                                            \n",
       "unique                                                 53                                            \n",
       "top     A excellent student demonstrates attributes su...                                            \n",
       "freq                                                    1                                            \n",
       "\n",
       "       Distance between your hometown and college.   (In Kilometer. Round off to nearest integer).  No Units should be entered. Only the number  \\\n",
       "count                                                  57                                                                                         \n",
       "unique                                                 47                                                                                         \n",
       "top                                                    20                                                                                         \n",
       "freq                                                    3                                                                                         \n",
       "\n",
       "       Time taken to reach college from your hometown. (In Hours. Round off to nearest integer).  No Units should be entered. Only the number  \\\n",
       "count                                                  58                                                                                       \n",
       "unique                                                 45                                                                                       \n",
       "top                                                    10                                                                                       \n",
       "freq                                                    5                                                                                       \n",
       "\n",
       "       District in which your hometown is  State in which your hometown is   \n",
       "count                                   58                               58  \n",
       "unique                                  37                               18  \n",
       "top                                   Durg                    Chhattisgarh   \n",
       "freq                                    16                               15  "
      ]
     },
     "execution_count": 114,
     "metadata": {},
     "output_type": "execute_result"
    }
   ],
   "source": [
    "df.describe()"
   ]
  },
  {
   "cell_type": "code",
   "execution_count": 115,
   "metadata": {},
   "outputs": [
    {
     "name": "stdout",
     "output_type": "stream",
     "text": [
      "Index(['Timestamp', 'Age', 'Weight', 'Height', 'Gender',\n",
      "       'Write a paragraph on the qualities of a good student. (Minimum 50 words, maximum 100 words)',\n",
      "       'Distance', 'Travel_Time', 'District in which your hometown is ',\n",
      "       'State in which your hometown is '],\n",
      "      dtype='object')\n"
     ]
    }
   ],
   "source": [
    "df.rename(columns={\n",
    "    'Age in years (round off to nearest integer).  No Units should be entered. Only the number': 'Age',\n",
    "    'Weight (In Kg, round off to nearest integer) No Units should be entered. Only the number': 'Weight',\n",
    "    'Height (In Inches. Round off to nearest integer).  No Units should be entered. Only the number': 'Height',\n",
    "    'Distance between your hometown and college.   (In Kilometer. Round off to nearest integer).  No Units should be entered. Only the number': 'Distance',\n",
    "    'Time taken to reach college from your hometown. (In Hours. Round off to nearest integer).  No Units should be entered. Only the number': 'Travel_Time',\n",
    "    'District in which your hometown is': 'District',\n",
    "    'State in which your hometown is': 'State',\n",
    "}, inplace=True)\n",
    "\n",
    "print(df.columns)  # Check new column names\n"
   ]
  },
  {
   "cell_type": "code",
   "execution_count": 116,
   "metadata": {},
   "outputs": [],
   "source": [
    "df.rename(columns ={\"Write a paragraph on the qualities of a good student. (Minimum 50 words, maximum 100 words)\":\"Qualities_of_a_good_student\"}, inplace = True)"
   ]
  },
  {
   "cell_type": "code",
   "execution_count": 117,
   "metadata": {},
   "outputs": [
    {
     "data": {
      "text/plain": [
       "Timestamp                              0\n",
       "Age                                    0\n",
       "Weight                                 0\n",
       "Height                                 1\n",
       "Gender                                 1\n",
       "Qualities_of_a_good_student            5\n",
       "Distance                               1\n",
       "Travel_Time                            0\n",
       "District in which your hometown is     0\n",
       "State in which your hometown is        0\n",
       "dtype: int64"
      ]
     },
     "execution_count": 117,
     "metadata": {},
     "output_type": "execute_result"
    }
   ],
   "source": [
    "df.isnull().sum()"
   ]
  },
  {
   "cell_type": "code",
   "execution_count": 118,
   "metadata": {},
   "outputs": [],
   "source": [
    "df.dropna(inplace=True)  #Dropped the rows with missing values as there quantity is very less"
   ]
  },
  {
   "cell_type": "code",
   "execution_count": 119,
   "metadata": {},
   "outputs": [
    {
     "name": "stdout",
     "output_type": "stream",
     "text": [
      "<class 'pandas.core.frame.DataFrame'>\n",
      "Index: 51 entries, 0 to 57\n",
      "Data columns (total 10 columns):\n",
      " #   Column                               Non-Null Count  Dtype \n",
      "---  ------                               --------------  ----- \n",
      " 0   Timestamp                            51 non-null     object\n",
      " 1   Age                                  51 non-null     object\n",
      " 2   Weight                               51 non-null     object\n",
      " 3   Height                               51 non-null     object\n",
      " 4   Gender                               51 non-null     object\n",
      " 5   Qualities_of_a_good_student          51 non-null     object\n",
      " 6   Distance                             51 non-null     object\n",
      " 7   Travel_Time                          51 non-null     object\n",
      " 8   District in which your hometown is   51 non-null     object\n",
      " 9   State in which your hometown is      51 non-null     object\n",
      "dtypes: object(10)\n",
      "memory usage: 4.4+ KB\n"
     ]
    }
   ],
   "source": [
    "df.info()"
   ]
  },
  {
   "cell_type": "code",
   "execution_count": 120,
   "metadata": {},
   "outputs": [],
   "source": [
    "num_cols  = [\"Age\", \"Weight\", \"Height\", \"Distance\", \"Travel_Time\"]\n",
    "df[num_cols] = df[num_cols].apply(pd.to_numeric , errors = \"coerce\") #forces invalid values to become NaN  instead of raising an error"
   ]
  },
  {
   "cell_type": "code",
   "execution_count": 121,
   "metadata": {},
   "outputs": [
    {
     "data": {
      "text/plain": [
       "Timestamp                               object\n",
       "Age                                    float64\n",
       "Weight                                 float64\n",
       "Height                                 float64\n",
       "Gender                                  object\n",
       "Qualities_of_a_good_student             object\n",
       "Distance                               float64\n",
       "Travel_Time                            float64\n",
       "District in which your hometown is      object\n",
       "State in which your hometown is         object\n",
       "dtype: object"
      ]
     },
     "execution_count": 121,
     "metadata": {},
     "output_type": "execute_result"
    }
   ],
   "source": [
    "df.dtypes"
   ]
  },
  {
   "cell_type": "code",
   "execution_count": 122,
   "metadata": {},
   "outputs": [],
   "source": [
    "height = df[\"Height\"]"
   ]
  },
  {
   "cell_type": "code",
   "execution_count": 123,
   "metadata": {},
   "outputs": [],
   "source": [
    "height = height.apply(lambda x: x / 2.5 if x > 100 else (x * 12.5 if x < 6 else x))\n"
   ]
  },
  {
   "cell_type": "code",
   "execution_count": 124,
   "metadata": {},
   "outputs": [],
   "source": [
    "height.dropna(inplace=True)"
   ]
  },
  {
   "cell_type": "code",
   "execution_count": 125,
   "metadata": {},
   "outputs": [],
   "source": [
    "height = height[height >= 30]  "
   ]
  },
  {
   "cell_type": "markdown",
   "metadata": {},
   "source": [
    "Weight to Height Comparision"
   ]
  },
  {
   "cell_type": "code",
   "execution_count": 126,
   "metadata": {},
   "outputs": [
    {
     "data": {
      "image/png": "[encoded data removed]",
      "text/plain": [
       "<Figure size 640x480 with 1 Axes>"
      ]
     },
     "metadata": {},
     "output_type": "display_data"
    }
   ],
   "source": [
    "\n",
    "sns.scatterplot(x=height, y=df[\"Weight\"], alpha=0.7, s=60, color=\"blue\", ec=\"black\")\n",
    "\n",
    "\n",
    "plt.xlabel(\"Height (cm)\")\n",
    "plt.ylabel(\"Weight (kg)\")\n",
    "plt.title(\"Height vs. Weight Scatter Plot\")\n",
    "\n",
    "\n",
    "plt.grid(True, ls=\"--\", alpha=0.5)\n",
    "\n",
    "\n",
    "plt.show()\n"
   ]
  },
  {
   "cell_type": "code",
   "execution_count": 102,
   "metadata": {},
   "outputs": [
    {
     "data": {
      "text/plain": [
       "<Axes: xlabel='Age', ylabel='Count'>"
      ]
     },
     "execution_count": 102,
     "metadata": {},
     "output_type": "execute_result"
    },
    {
     "data": {
      "image/png": "[encoded data removed]",
      "text/plain": [
       "<Figure size 640x480 with 1 Axes>"
      ]
     },
     "metadata": {},
     "output_type": "display_data"
    }
   ],
   "source": [
    "sns.histplot(df[\"Age\"])"
   ]
  },
  {
   "cell_type": "code",
   "execution_count": 131,
   "metadata": {},
   "outputs": [],
   "source": [
    "age = df[\"Age\"][(df[\"Age\"] < 30) & (df[\"Age\"] > 10)] #Removing outliers\n"
   ]
  },
  {
   "cell_type": "code",
   "execution_count": 130,
   "metadata": {},
   "outputs": [
    {
     "data": {
      "text/plain": [
       "<Axes: xlabel='Age', ylabel='Count'>"
      ]
     },
     "execution_count": 130,
     "metadata": {},
     "output_type": "execute_result"
    },
    {
     "data": {
      "image/png": "[encoded data removed]",
      "text/plain": [
       "<Figure size 640x480 with 1 Axes>"
      ]
     },
     "metadata": {},
     "output_type": "display_data"
    }
   ],
   "source": [
    "sns.histplot(age)"
   ]
  },
  {
   "cell_type": "code",
   "execution_count": null,
   "metadata": {},
   "outputs": [
    {
     "data": {
      "text/plain": [
       "count    45.00000\n",
       "mean     20.80000\n",
       "std       1.47093\n",
       "min      18.00000\n",
       "25%      20.00000\n",
       "50%      21.00000\n",
       "75%      21.00000\n",
       "max      27.00000\n",
       "Name: Age, dtype: float64"
      ]
     },
     "execution_count": 132,
     "metadata": {},
     "output_type": "execute_result"
    }
   ],
   "source": [
    "age.describe()"
   ]
  },
  {
   "cell_type": "markdown",
   "metadata": {},
   "source": [
    "Average age is 20"
   ]
  },
  {
   "cell_type": "code",
   "execution_count": 139,
   "metadata": {},
   "outputs": [
    {
     "data": {
      "text/plain": [
       "<Axes: xlabel='Gender', ylabel='Height'>"
      ]
     },
     "execution_count": 139,
     "metadata": {},
     "output_type": "execute_result"
    },
    {
     "data": {
      "image/png": "[encoded data removed]",
      "text/plain": [
       "<Figure size 640x480 with 1 Axes>"
      ]
     },
     "metadata": {},
     "output_type": "display_data"
    }
   ],
   "source": [
    "sns.scatterplot(x = \"Gender\", y = height,data = df)"
   ]
  },
  {
   "cell_type": "code",
   "execution_count": 144,
   "metadata": {},
   "outputs": [],
   "source": [
    "df.columns = df.columns.str.strip()  # Removes leading/trailing spaces\n"
   ]
  },
  {
   "cell_type": "code",
   "execution_count": 145,
   "metadata": {},
   "outputs": [
    {
     "data": {
      "text/plain": [
       "Gender  State in which your hometown is\n",
       "Female  Assam                                     NaN\n",
       "        Bihar                               22.000000\n",
       "        Bihar                                     NaN\n",
       "        Chhatisgarh                         30.000000\n",
       "        Chhattisgarh                         5.000000\n",
       "        Chhattisgarh                        11.766667\n",
       "        Jharkhand                           10.000000\n",
       "        Karnataka                           54.000000\n",
       "        Raiypur                                   NaN\n",
       "Male    Bihar                              279.200000\n",
       "        Bihar                               28.000000\n",
       "        C.G                                  0.330000\n",
       "        Chattisgarh                          2.500000\n",
       "        Chhatisgarh                          9.000000\n",
       "        Chhattisgarh                         5.500000\n",
       "        Chhattisgarh                         6.625000\n",
       "        Chhattishgarh                        1.000000\n",
       "        Jharkhand                           13.000000\n",
       "        Jharkhand                                 NaN\n",
       "        Uttar pradesh                       15.000000\n",
       "Name: Travel_Time, dtype: float64"
      ]
     },
     "execution_count": 145,
     "metadata": {},
     "output_type": "execute_result"
    }
   ],
   "source": [
    "df.groupby([\"Gender\", \"State in which your hometown is\"])[\"Travel_Time\"].mean()\n"
   ]
  },
  {
   "cell_type": "markdown",
   "metadata": {},
   "source": [
    "Found that there is still confusion in the spelling of state in both boys and girls"
   ]
  },
  {
   "cell_type": "code",
   "execution_count": 146,
   "metadata": {},
   "outputs": [
    {
     "data": {
      "text/plain": [
       "<Axes: xlabel='Distance', ylabel='Travel_Time'>"
      ]
     },
     "execution_count": 146,
     "metadata": {},
     "output_type": "execute_result"
    },
    {
     "data": {
      "image/png": "[encoded data removed]",
      "text/plain": [
       "<Figure size 640x480 with 1 Axes>"
      ]
     },
     "metadata": {},
     "output_type": "display_data"
    }
   ],
   "source": [
    "sns.scatterplot(data=df, x=\"Distance\", y=\"Travel_Time\")"
   ]
  },
  {
   "cell_type": "code",
   "execution_count": null,
   "metadata": {},
   "outputs": [],
   "source": []
  }
 ],
 "metadata": {
  "kernelspec": {
   "display_name": ".venv",
   "language": "python",
   "name": "python3"
  },
  "language_info": {
   "codemirror_mode": {
    "name": "ipython",
    "version": 3
   },
   "file_extension": ".py",
   "mimetype": "text/x-python",
   "name": "python",
   "nbconvert_exporter": "python",
   "pygments_lexer": "ipython3",
   "version": "3.13.1"
  }
 },
 "nbformat": 4,
 "nbformat_minor": 2
}
